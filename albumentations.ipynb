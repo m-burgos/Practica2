{
 "cells": [
  {
   "cell_type": "code",
   "execution_count": 97,
   "id": "85ec567a",
   "metadata": {},
   "outputs": [],
   "source": [
    "import os\n",
    "import numpy as np\n",
    "import albumentations as A\n",
    "from PIL import Image\n",
    "from helpers import *"
   ]
  },
  {
   "cell_type": "code",
   "execution_count": 73,
   "id": "5cc7cac4",
   "metadata": {},
   "outputs": [
    {
     "data": {
      "image/png": "[encoded data removed]",
      "text/plain": [
       "<PIL.Image.Image image mode=L size=512x512>"
      ]
     },
     "execution_count": 73,
     "metadata": {},
     "output_type": "execute_result"
    }
   ],
   "source": [
    "#image = Image.open('00000_26568_774.png')\n",
    "image = Image.open('00022_14961_2322.png').convert('L')\n",
    "#image = Image.open('hola.jpg')\n",
    "#image.show()\n",
    "image"
   ]
  },
  {
   "cell_type": "code",
   "execution_count": 66,
   "id": "2498f3dc",
   "metadata": {},
   "outputs": [
    {
     "name": "stdout",
     "output_type": "stream",
     "text": [
      "Abriendo en una sesión existente del navegador\n"
     ]
    }
   ],
   "source": [
    "aug = A.HorizontalFlip(p=1)\n",
    "augmented_image = aug(image=np.array(image))['image']\n",
    "augmented_image = Image.fromarray(augmented_image)\n",
    "augmented_image.show()"
   ]
  },
  {
   "cell_type": "code",
   "execution_count": 67,
   "id": "bc2723ee",
   "metadata": {},
   "outputs": [
    {
     "name": "stdout",
     "output_type": "stream",
     "text": [
      "Abriendo en una sesión existente del navegador\n"
     ]
    }
   ],
   "source": [
    "aug = A.VerticalFlip(p=1)\n",
    "augmented_image = aug(image=np.array(image))['image']\n",
    "augmented_image = Image.fromarray(augmented_image)\n",
    "augmented_image.show()"
   ]
  },
  {
   "cell_type": "code",
   "execution_count": 72,
   "id": "56de2fe3",
   "metadata": {},
   "outputs": [
    {
     "data": {
      "text/plain": [
       "array([[1, 1, 1, ..., 0, 0, 0],\n",
       "       [1, 1, 1, ..., 0, 0, 0],\n",
       "       [1, 1, 1, ..., 0, 0, 0],\n",
       "       ...,\n",
       "       [1, 1, 1, ..., 0, 0, 0],\n",
       "       [1, 1, 1, ..., 0, 0, 0],\n",
       "       [1, 1, 1, ..., 0, 0, 0]], dtype=uint8)"
      ]
     },
     "execution_count": 72,
     "metadata": {},
     "output_type": "execute_result"
    }
   ],
   "source": [
    "#np.array(image)\n",
    "#np.array(image).astype(int)\n",
    "#np.array(image).astype(float)\n",
    "#np.array(image, dtype=np.uint8)"
   ]
  },
  {
   "cell_type": "code",
   "execution_count": 74,
   "id": "85f68324",
   "metadata": {},
   "outputs": [
    {
     "name": "stdout",
     "output_type": "stream",
     "text": [
      "Abriendo en una sesión existente del navegador\n"
     ]
    },
    {
     "name": "stderr",
     "output_type": "stream",
     "text": [
      "[8097:8097:0100/000000.759982:ERROR:zygote_linux.cc(664)] write: Tubería rota (32)\n"
     ]
    }
   ],
   "source": [
    "aug = A.Rotate([90,90], p=1)\n",
    "augmented_image = aug(image=np.array(image))['image']\n",
    "augmented_image = Image.fromarray(augmented_image)\n",
    "augmented_image.show()"
   ]
  },
  {
   "cell_type": "code",
   "execution_count": 75,
   "id": "8ab6f6c7",
   "metadata": {},
   "outputs": [
    {
     "name": "stdout",
     "output_type": "stream",
     "text": [
      "Abriendo en una sesión existente del navegador\n"
     ]
    },
    {
     "name": "stderr",
     "output_type": "stream",
     "text": [
      "[8142:8142:0100/000000.011974:ERROR:zygote_linux.cc(664)] write: Tubería rota (32)\n"
     ]
    }
   ],
   "source": [
    "aug = A.Rotate(limit=[180,180], p=1)\n",
    "augmented_image = aug(image=np.array(image))['image']\n",
    "augmented_image = Image.fromarray(augmented_image)\n",
    "augmented_image.show()"
   ]
  },
  {
   "cell_type": "code",
   "execution_count": 77,
   "id": "ea340e1a",
   "metadata": {},
   "outputs": [],
   "source": [
    "aug = A.Rotate([270,270], p=1)\n",
    "augmented_image = aug(image=np.array(image))['image']\n",
    "augmented_image = Image.fromarray(augmented_image)\n",
    "#augmented_image.show()\n",
    "augmented_image.save('tss.png')"
   ]
  },
  {
   "cell_type": "markdown",
   "id": "bce168c8",
   "metadata": {},
   "source": [
    "---"
   ]
  },
  {
   "cell_type": "markdown",
   "id": "4e4d57d9",
   "metadata": {},
   "source": [
    "# ESTA"
   ]
  },
  {
   "cell_type": "code",
   "execution_count": 100,
   "id": "27b390ea",
   "metadata": {},
   "outputs": [],
   "source": [
    "def generate_augmented_images(image_path, img): #img = 'patch' ó 'mask'\n",
    "    image = Image.open(image_path) if img=='patch' else Image.open(image_path).convert('L')\n",
    "    augs = [A.HorizontalFlip(p=1), A.VerticalFlip(p=1), A.Rotate(limit=[90, 90], p=1),\n",
    "        A.Rotate(limit=[180, 180], p=1), A.Rotate(limit=[270, 270], p=1),]\n",
    "    augmented_images = [aug(image=np.array(image))['image'] for aug in augs]\n",
    "    return augmented_images\n",
    "\n",
    "def do_aug_dataset(path_mask, path_patch, path_output):\n",
    "    check_dir(os.path.join(path_output,'aug_masks'))\n",
    "    check_dir(os.path.join(path_output,'aug_patches'))\n",
    "    files = os.listdir(path_mask)\n",
    "    for file in files:\n",
    "        aug_masks = generate_augmented_images(os.path.join(path_mask,file), 'mask')\n",
    "        aug_patchs = generate_augmented_images(os.path.join(path_patch,file), 'patch')\n",
    "        for i, (aug_mask, aug_patch) in enumerate(zip(aug_masks, aug_patchs)):\n",
    "            fn = f'{file[:-4]}_{i}.jpg'\n",
    "            aug_mask = Image.fromarray(aug_mask)\n",
    "            aug_mask.save(os.path.join(path_output,'aug_masks',fn))\n",
    "            aug_patch = Image.fromarray(aug_patch)\n",
    "            aug_patch.save(os.path.join(path_output,'aug_patches',fn))\n",
    "    \n",
    "path_mask = '/home/user/Documentos/masking the tissue/dataset1/mask'\n",
    "path_patch = '/home/user/Documentos/masking the tissue/dataset1/patch'\n",
    "path_output = '/home/user/Documentos/masking the tissue/dataset1'\n",
    "do_aug_dataset(path_mask, path_patch, path_output)"
   ]
  },
  {
   "cell_type": "markdown",
   "id": "b2b2d88e",
   "metadata": {},
   "source": [
    "---"
   ]
  },
  {
   "cell_type": "code",
   "execution_count": 88,
   "id": "459d3e1a",
   "metadata": {},
   "outputs": [],
   "source": [
    "img = 'mask'\n",
    "#image_path = '00000_26568_774.png' #patch\n",
    "image_path = '00022_14961_2322.png' #mask\n",
    "image = Image.open(image_path) if img=='patch' else Image.open(image_path).convert('L')"
   ]
  },
  {
   "cell_type": "code",
   "execution_count": 89,
   "id": "f268b9ca",
   "metadata": {},
   "outputs": [
    {
     "data": {
      "image/png": "[encoded data removed]",
      "text/plain": [
       "<PIL.Image.Image image mode=L size=512x512>"
      ]
     },
     "execution_count": 89,
     "metadata": {},
     "output_type": "execute_result"
    }
   ],
   "source": [
    "image"
   ]
  },
  {
   "cell_type": "code",
   "execution_count": 94,
   "id": "f47a749a",
   "metadata": {},
   "outputs": [
    {
     "name": "stdout",
     "output_type": "stream",
     "text": [
      "00000_26568_774\n",
      "00001_26826_774\n"
     ]
    }
   ],
   "source": [
    "files = os.listdir('/home/user/Documentos/masking the tissue/dataset1/mask')\n",
    "for file in files:\n",
    "    print(f'{file[:-4]}')"
   ]
  },
  {
   "cell_type": "code",
   "execution_count": null,
   "id": "18023fd7",
   "metadata": {},
   "outputs": [],
   "source": []
  }
 ],
 "metadata": {
  "kernelspec": {
   "display_name": "Python 3 (ipykernel)",
   "language": "python",
   "name": "python3"
  },
  "language_info": {
   "codemirror_mode": {
    "name": "ipython",
    "version": 3
   },
   "file_extension": ".py",
   "mimetype": "text/x-python",
   "name": "python",
   "nbconvert_exporter": "python",
   "pygments_lexer": "ipython3",
   "version": "3.10.12"
  }
 },
 "nbformat": 4,
 "nbformat_minor": 5
}
