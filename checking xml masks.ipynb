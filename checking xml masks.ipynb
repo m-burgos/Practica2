{
 "cells": [
  {
   "cell_type": "code",
   "execution_count": 1,
   "id": "72a2e81c",
   "metadata": {},
   "outputs": [],
   "source": [
    "import os, sys\n",
    "from helpers import *\n",
    "import numpy as np\n",
    "from openslide import OpenSlide\n",
    "from PIL import Image, ImageDraw"
   ]
  },
  {
   "cell_type": "code",
   "execution_count": 2,
   "id": "fea1ba1e",
   "metadata": {},
   "outputs": [],
   "source": [
    "path = '/home/user/Documentos/WSI/WSI'\n",
    "xml_files = filenames(path, 'xml')\n",
    "svs_files = filenames(path, 'svs')\n",
    "d = get_all_vert(path)"
   ]
  },
  {
   "cell_type": "code",
   "execution_count": 9,
   "id": "ce94639e",
   "metadata": {},
   "outputs": [
    {
     "name": "stdout",
     "output_type": "stream",
     "text": [
      "\n",
      "0: I-2021-4001 A3.xml\n",
      "0 Cerrado!\n",
      "1 Cerrado!\n",
      "2 Cerrado!\n",
      "3 Cerrado!\n",
      "4 Cerrado!\n",
      "5 Cerrado!\n",
      "6 Cerrado!\n",
      "7 Cerrado!\n",
      "8 Cerrado!\n",
      "9 Cerrado!\n",
      "10 Cerrado!\n",
      "11 Cerrado!\n",
      "12 Cerrado!\n",
      "13 Cerrado!\n",
      "14 Cerrado!\n",
      "15 Cerrado!\n",
      "16 Cerrado!\n",
      "17 Cerrado!\n",
      "\n",
      "1: I-2021-4001 A4.xml\n",
      "0 Cerrado!\n",
      "1 Cerrado!\n",
      "2 Cerrado!\n",
      "3 Cerrado!\n",
      "4 Cerrado!\n",
      "5 Cerrado!\n",
      "6 Cerrado!\n",
      "7 Cerrado!\n",
      "8 Cerrado!\n",
      "9 Cerrado!\n",
      "\n",
      "2: I-2021-5616 A1.xml\n",
      "0 Cerrado!\n",
      "1 Cerrado!\n",
      "2 Cerrado!\n",
      "\n",
      "3: I-2021-5616 A2.xml\n",
      "0 abierto :0\n",
      "1 abierto :0\n",
      "\n",
      "4: I-2021-5616 A3.xml\n",
      "0 Cerrado!\n",
      "1 Cerrado!\n",
      "2 Cerrado!\n",
      "3 Cerrado!\n",
      "\n",
      "5: I-2021-5616 A4.xml\n",
      "0 Cerrado!\n",
      "1 Cerrado!\n",
      "2 Cerrado!\n",
      "3 Cerrado!\n",
      "4 Cerrado!\n",
      "\n",
      "6: I-2021-5616 B6.xml\n",
      "0 Cerrado!\n",
      "1 Cerrado!\n"
     ]
    }
   ],
   "source": [
    "for idx, file in enumerate(xml_files):\n",
    "    print(f'\\n{idx}: {file}')\n",
    "    for i, pol in enumerate(d[file]):\n",
    "        print(f'{i} Cerrado!' if pol[0]==pol[-1] else f'{i} abierto :0') "
   ]
  },
  {
   "cell_type": "markdown",
   "id": "a4aaf6d9",
   "metadata": {},
   "source": [
    "---"
   ]
  },
  {
   "cell_type": "markdown",
   "id": "04fed83e",
   "metadata": {},
   "source": [
    "Echar un ojo a los \"abiertos\""
   ]
  },
  {
   "cell_type": "code",
   "execution_count": 5,
   "id": "a0729877",
   "metadata": {},
   "outputs": [
    {
     "data": {
      "text/plain": [
       "(4, 4)"
      ]
     },
     "execution_count": 5,
     "metadata": {},
     "output_type": "execute_result"
    }
   ],
   "source": [
    "ojo = d[files[2]]\n",
    "len(ojo[0]), len(ojo[1])"
   ]
  },
  {
   "cell_type": "code",
   "execution_count": 6,
   "id": "000341a4",
   "metadata": {},
   "outputs": [
    {
     "data": {
      "text/plain": [
       "[[54377, 5174], [54782, 5174], [54782, 5580], [54377, 5580]]"
      ]
     },
     "execution_count": 6,
     "metadata": {},
     "output_type": "execute_result"
    }
   ],
   "source": [
    "ojo[0]"
   ]
  },
  {
   "cell_type": "code",
   "execution_count": 8,
   "id": "de6023a8",
   "metadata": {},
   "outputs": [
    {
     "data": {
      "text/plain": [
       "[[79308, 3106], [79867, 3106], [79867, 3728], [79308, 3728]]"
      ]
     },
     "execution_count": 8,
     "metadata": {},
     "output_type": "execute_result"
    }
   ],
   "source": [
    "ojo[1]"
   ]
  },
  {
   "cell_type": "markdown",
   "id": "e7118ced",
   "metadata": {},
   "source": [
    "---"
   ]
  },
  {
   "cell_type": "markdown",
   "id": "53722ab3",
   "metadata": {},
   "source": [
    "## graphing those masks (acotados)"
   ]
  },
  {
   "cell_type": "code",
   "execution_count": 3,
   "id": "8f739460",
   "metadata": {},
   "outputs": [
    {
     "name": "stdout",
     "output_type": "stream",
     "text": [
      "\n",
      "0: I-2021-4001 A3.xml\n",
      "0  4210 <X< 4586 | 5020 <Y< 5445 \n",
      "1  4121 <X< 4386 | 5413 <Y< 5867 \n",
      "2  3869 <X< 4615 | 6081 <Y< 6949 \n",
      "3  3570 <X< 3790 | 5984 <Y< 6137 \n",
      "4  3530 <X< 3849 | 6504 <Y< 6670 \n",
      "5  3092 <X< 3671 | 6771 <Y< 6997 \n",
      "6  2360 <X< 3662 | 7093 <Y< 8167 \n",
      "7  2234 <X< 3195 | 8060 <Y< 8675 \n",
      "8  3246 <X< 3346 | 8029 <Y< 8129 \n",
      "9  2106 <X< 2651 | 8343 <Y< 8749 \n",
      "10  7161 <X< 8240 | 12660 <Y< 13739 \n",
      "11  5339 <X< 5749 | 13427 <Y< 13903 \n",
      "12  6073 <X< 6855 | 13166 <Y< 13700 \n",
      "13  5722 <X< 6058 | 13206 <Y< 13626 \n",
      "14  3538 <X< 5142 | 12814 <Y< 13945 \n",
      "15  2960 <X< 3614 | 12638 <Y< 13507 \n",
      "16  1096 <X< 2770 | 11592 <Y< 12884 \n",
      "17  449 <X< 3063 | 8638 <Y< 11700 \n",
      "\n",
      "1: I-2021-4001 A4.xml\n",
      "0  25398 <X< 26178 | 9709 <Y< 10362 \n",
      "1  26362 <X< 27238 | 9895 <Y< 10630 \n",
      "2  26379 <X< 28259 | 10538 <Y< 12117 \n",
      "3  27313 <X< 29115 | 11604 <Y< 13112 \n",
      "4  28741 <X< 30260 | 12484 <Y< 14349 \n",
      "5  28431 <X< 30172 | 13939 <Y< 15166 \n",
      "6  26734 <X< 28771 | 14120 <Y< 15183 \n",
      "7  25491 <X< 26939 | 14078 <Y< 15832 \n",
      "8  25270 <X< 25890 | 9025 <Y< 9548 \n",
      "9  29081 <X< 29409 | 12146 <Y< 12518 \n",
      "\n",
      "2: I-2021-5616 A1.xml\n",
      "0  61438 <X< 63164 | 2002 <Y< 2907 \n",
      "1  62821 <X< 63032 | 3696 <Y< 3897 \n",
      "2  63812 <X< 64568 | 3607 <Y< 4362 \n",
      "\n",
      "3: I-2021-5616 A2.xml\n",
      "0  54377 <X< 54782 | 5174 <Y< 5580 \n",
      "1  79308 <X< 79867 | 3106 <Y< 3728 \n",
      "\n",
      "4: I-2021-5616 A3.xml\n",
      "0  2757 <X< 3524 | 3536 <Y< 4096 \n",
      "1  1436 <X< 3195 | 3009 <Y< 4153 \n",
      "2  3765 <X< 4089 | 2647 <Y< 3015 \n",
      "3  1211 <X< 2073 | 5956 <Y< 6427 \n",
      "\n",
      "5: I-2021-5616 A4.xml\n",
      "0  72864 <X< 75250 | 12671 <Y< 14570 \n",
      "1  72771 <X< 73433 | 11512 <Y< 11877 \n",
      "2  73393 <X< 73648 | 11824 <Y< 11961 \n",
      "3  74019 <X< 75495 | 10335 <Y< 11859 \n",
      "4  75139 <X< 76900 | 10359 <Y< 12785 \n",
      "\n",
      "6: I-2021-5616 B6.xml\n",
      "0  70585 <X< 70888 | 5294 <Y< 5808 \n",
      "1  69898 <X< 70522 | 4824 <Y< 5085 \n"
     ]
    }
   ],
   "source": [
    "for idx, file in enumerate(xml_files):\n",
    "    print(f'\\n{idx}: {file}')\n",
    "    for i, pol in enumerate(d[file]):\n",
    "        min_x = min(pol, key=lambda p: p[0])[0]\n",
    "        max_x = max(pol, key=lambda p: p[0])[0]\n",
    "        min_y = min(pol, key=lambda p: p[1])[1]\n",
    "        max_y = max(pol, key=lambda p: p[1])[1]\n",
    "        print(f'{i}  {min_x} <X< {max_x} | {min_y} <Y< {max_y} ')"
   ]
  },
  {
   "cell_type": "markdown",
   "id": "bea380af",
   "metadata": {},
   "source": [
    "---"
   ]
  },
  {
   "cell_type": "markdown",
   "id": "5434558c",
   "metadata": {},
   "source": [
    "En xml_files[0] :   $400<x<8300$ ;  $5000<y<14000$"
   ]
  },
  {
   "cell_type": "code",
   "execution_count": 4,
   "id": "68e93124",
   "metadata": {},
   "outputs": [],
   "source": [
    "pols = d[xml_files[0]]\n",
    "img = Image.new(size=(8500,15000),color=0, mode='1')\n",
    "draw = ImageDraw.Draw(img)\n",
    "for pol in pols:\n",
    "    draw.polygon(pol, fill=1)"
   ]
  },
  {
   "cell_type": "code",
   "execution_count": 5,
   "id": "a8910bd5",
   "metadata": {},
   "outputs": [
    {
     "name": "stdout",
     "output_type": "stream",
     "text": [
      "Abriendo en una sesión existente del navegador\n"
     ]
    },
    {
     "name": "stderr",
     "output_type": "stream",
     "text": [
      "[4252:4252:0100/000000.915755:ERROR:zygote_linux.cc(664)] write: Tubería rota (32)\n"
     ]
    }
   ],
   "source": [
    "img.show()"
   ]
  },
  {
   "cell_type": "markdown",
   "id": "47333fc3",
   "metadata": {},
   "source": [
    "En xml_files[1]: I-2021-4001 A4.xml\n",
    "\n",
    "$25.000<x<30.300$  ; $9.000<y<16.000$\n",
    "\n",
    "\n",
    "0  25398 <X< 26178 | 9709 <Y< 10362 \n",
    "1  26362 <X< 27238 | 9895 <Y< 10630 \n",
    "2  26379 <X< 28259 | 10538 <Y< 12117 \n",
    "3  27313 <X< 29115 | 11604 <Y< 13112 \n",
    "4  28741 <X< 30260 | 12484 <Y< 14349 \n",
    "5  28431 <X< 30172 | 13939 <Y< 15166 \n",
    "6  26734 <X< 28771 | 14120 <Y< 15183 \n",
    "7  25491 <X< 26939 | 14078 <Y< 15832 \n",
    "8  25270 <X< 25890 | 9025 <Y< 9548 \n",
    "9  29081 <X< 29409 | 12146 <Y< 12518"
   ]
  },
  {
   "cell_type": "code",
   "execution_count": 6,
   "id": "22057e5c",
   "metadata": {},
   "outputs": [],
   "source": [
    "def correr_al_origen(poligonos, x=0, y=0):\n",
    "    return [[(punto[0]-x, punto[1]-y) for punto in poligono] for poligono in poligonos]\n",
    "\n",
    "def graf_mask(pols, size):\n",
    "    img = Image.new(size=size, color=0, mode='1')\n",
    "    draw = ImageDraw.Draw(img)\n",
    "    for pol in pols:\n",
    "        draw.polygon(pol, fill=1)\n",
    "    img.show()"
   ]
  },
  {
   "cell_type": "code",
   "execution_count": 8,
   "id": "053fe174",
   "metadata": {},
   "outputs": [
    {
     "name": "stdout",
     "output_type": "stream",
     "text": [
      "Abriendo en una sesión existente del navegador\n"
     ]
    },
    {
     "name": "stderr",
     "output_type": "stream",
     "text": [
      "[4360:4360:0100/000000.023503:ERROR:zygote_linux.cc(664)] write: Tubería rota (32)\n"
     ]
    }
   ],
   "source": [
    "graf_mask(correr_al_origen(d[xml_files[0]], x=400, y=5000), (8000, 10000))"
   ]
  },
  {
   "cell_type": "markdown",
   "id": "80a823db",
   "metadata": {},
   "source": [
    "En xml_files[3] : I-2021-5616 A2.xml\n",
    "\n",
    "$50000<x<80000$  ; $3000<y<5600$\n",
    "\n",
    "0  54377 <X< 54782 | 5174 <Y< 5580 \n",
    "1  79308 <X< 79867 | 3106 <Y< 3728 "
   ]
  },
  {
   "cell_type": "code",
   "execution_count": 26,
   "id": "ac3f250b",
   "metadata": {},
   "outputs": [
    {
     "data": {
      "text/plain": [
       "[[(4377, 2174), (4782, 2174), (4782, 2580), (4377, 2580)],\n",
       " [(29308, 106), (29867, 106), (29867, 728), (29308, 728)]]"
      ]
     },
     "execution_count": 26,
     "metadata": {},
     "output_type": "execute_result"
    }
   ],
   "source": [
    "correr_al_origen(d[xml_files[3]], x=50_000, y=3_000)"
   ]
  },
  {
   "cell_type": "code",
   "execution_count": 33,
   "id": "5fec10df",
   "metadata": {},
   "outputs": [
    {
     "name": "stdout",
     "output_type": "stream",
     "text": [
      "Abriendo en una sesión existente del navegador\n"
     ]
    },
    {
     "name": "stderr",
     "output_type": "stream",
     "text": [
      "[6717:6717:0100/000000.816603:ERROR:zygote_linux.cc(662)] write: Tubería rota (32)\n"
     ]
    }
   ],
   "source": [
    "pols = correr_al_origen(d[xml_files[3]], x=50_000, y=3_000)\n",
    "img = Image.new(size=(30_000,3_000),color=0, mode='1')\n",
    "draw = ImageDraw.Draw(img)\n",
    "for pol in pols:\n",
    "    draw.polygon(pol, fill=1)\n",
    "    \n",
    "img.show()"
   ]
  },
  {
   "cell_type": "code",
   "execution_count": 36,
   "id": "4040bead",
   "metadata": {},
   "outputs": [
    {
     "data": {
      "text/plain": [
       "48"
      ]
     },
     "execution_count": 36,
     "metadata": {},
     "output_type": "execute_result"
    }
   ],
   "source": [
    "import sys\n",
    "sys.getsizeof(img)"
   ]
  },
  {
   "cell_type": "code",
   "execution_count": 7,
   "id": "c3f4cc6f",
   "metadata": {},
   "outputs": [
    {
     "data": {
      "text/plain": [
       "True"
      ]
     },
     "execution_count": 7,
     "metadata": {},
     "output_type": "execute_result"
    }
   ],
   "source": [
    "#xml_files[0][:-4], svs_files[0][:-4]\n",
    "xml_files[0][:-4] == svs_files[0][:-4]"
   ]
  },
  {
   "cell_type": "code",
   "execution_count": 10,
   "id": "a05830c5",
   "metadata": {},
   "outputs": [
    {
     "data": {
      "text/plain": [
       "['I-2021-4001 A3',\n",
       " 'I-2021-4001 A4',\n",
       " 'I-2021-5616 A1',\n",
       " 'I-2021-5616 A2',\n",
       " 'I-2021-5616 A3',\n",
       " 'I-2021-5616 A4',\n",
       " 'I-2021-5616 B6']"
      ]
     },
     "execution_count": 10,
     "metadata": {},
     "output_type": "execute_result"
    }
   ],
   "source": [
    "xx, yy = '12', '45'\n",
    "[xml[:-4] for xml in xml_files]"
   ]
  },
  {
   "cell_type": "code",
   "execution_count": 19,
   "id": "a3e53900",
   "metadata": {},
   "outputs": [],
   "source": [
    "path = 'WSI'\n",
    "filename = '_'.join(['I-2021-5616 B6',xx,yy]) #+ '.png'\n",
    "formato = '.png'"
   ]
  },
  {
   "cell_type": "code",
   "execution_count": 50,
   "id": "27ac84b3",
   "metadata": {},
   "outputs": [
    {
     "data": {
      "text/plain": [
       "'/home/user/Documentos/WSI'"
      ]
     },
     "execution_count": 50,
     "metadata": {},
     "output_type": "execute_result"
    }
   ],
   "source": [
    "os.getcwd()"
   ]
  },
  {
   "cell_type": "code",
   "execution_count": 54,
   "id": "6387a169",
   "metadata": {},
   "outputs": [],
   "source": [
    "out_path = 'dataset'\n",
    "if not os.path.exists(out_path):\n",
    "    os.makedirs(out_path)"
   ]
  },
  {
   "cell_type": "code",
   "execution_count": 55,
   "id": "281322e1",
   "metadata": {},
   "outputs": [
    {
     "data": {
      "text/plain": [
       "['I-2021-4001 A3',\n",
       " 'I-2021-4001 A4',\n",
       " 'I-2021-5616 A1',\n",
       " 'I-2021-5616 A2',\n",
       " 'I-2021-5616 A3',\n",
       " 'I-2021-5616 A4',\n",
       " 'I-2021-5616 B6']"
      ]
     },
     "execution_count": 55,
     "metadata": {},
     "output_type": "execute_result"
    }
   ],
   "source": [
    "files = [xml[:-4] for xml in xml_files]\n",
    "files"
   ]
  },
  {
   "cell_type": "code",
   "execution_count": 56,
   "id": "23258c67",
   "metadata": {},
   "outputs": [],
   "source": [
    "from time import time\n",
    "t0 = time()\n",
    "svs = files[0]"
   ]
  },
  {
   "cell_type": "code",
   "execution_count": 60,
   "id": "1871a984",
   "metadata": {},
   "outputs": [
    {
     "name": "stdout",
     "output_type": "stream",
     "text": [
      "I-2021-4001 A3 cropped in 55.71 sec \n"
     ]
    }
   ],
   "source": [
    "print('{} cropped in {:.2f} sec '.format(svs,time()-t0))"
   ]
  },
  {
   "cell_type": "code",
   "execution_count": null,
   "id": "68b3e2bb",
   "metadata": {},
   "outputs": [],
   "source": []
  }
 ],
 "metadata": {
  "kernelspec": {
   "display_name": "Python 3 (ipykernel)",
   "language": "python",
   "name": "python3"
  },
  "language_info": {
   "codemirror_mode": {
    "name": "ipython",
    "version": 3
   },
   "file_extension": ".py",
   "mimetype": "text/x-python",
   "name": "python",
   "nbconvert_exporter": "python",
   "pygments_lexer": "ipython3",
   "version": "3.10.12"
  }
 },
 "nbformat": 4,
 "nbformat_minor": 5
}
