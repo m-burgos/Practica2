{
 "cells": [
  {
   "cell_type": "code",
   "execution_count": 10,
   "id": "ff284225",
   "metadata": {},
   "outputs": [],
   "source": [
    "import os\n",
    "import pandas as pd\n",
    "import numpy as np\n",
    "from helpers import *\n",
    "from PIL import Image, ImageDraw\n",
    "from time import time\n",
    "from openslide import OpenSlide"
   ]
  },
  {
   "cell_type": "code",
   "execution_count": 2,
   "id": "1bfd0cbe",
   "metadata": {},
   "outputs": [
    {
     "data": {
      "text/plain": [
       "'/home/user/Documentos/WSI/ipynbs'"
      ]
     },
     "execution_count": 2,
     "metadata": {},
     "output_type": "execute_result"
    }
   ],
   "source": [
    "os.getcwd()"
   ]
  },
  {
   "cell_type": "markdown",
   "id": "a6b11c42",
   "metadata": {},
   "source": [
    "### vamos a reconstruir la mask para 'I-2021-4001 A3'"
   ]
  },
  {
   "cell_type": "code",
   "execution_count": 6,
   "id": "ff4e528c",
   "metadata": {},
   "outputs": [
    {
     "data": {
      "text/html": [
       "<div>\n",
       "<style scoped>\n",
       "    .dataframe tbody tr th:only-of-type {\n",
       "        vertical-align: middle;\n",
       "    }\n",
       "\n",
       "    .dataframe tbody tr th {\n",
       "        vertical-align: top;\n",
       "    }\n",
       "\n",
       "    .dataframe thead th {\n",
       "        text-align: right;\n",
       "    }\n",
       "</style>\n",
       "<table border=\"1\" class=\"dataframe\">\n",
       "  <thead>\n",
       "    <tr style=\"text-align: right;\">\n",
       "      <th></th>\n",
       "      <th>file</th>\n",
       "      <th>x</th>\n",
       "      <th>y</th>\n",
       "    </tr>\n",
       "  </thead>\n",
       "  <tbody>\n",
       "    <tr>\n",
       "      <th>0</th>\n",
       "      <td>I-2021-4001 A3</td>\n",
       "      <td>52736</td>\n",
       "      <td>1536</td>\n",
       "    </tr>\n",
       "    <tr>\n",
       "      <th>1</th>\n",
       "      <td>I-2021-4001 A3</td>\n",
       "      <td>53248</td>\n",
       "      <td>1536</td>\n",
       "    </tr>\n",
       "    <tr>\n",
       "      <th>2</th>\n",
       "      <td>I-2021-4001 A3</td>\n",
       "      <td>52736</td>\n",
       "      <td>2048</td>\n",
       "    </tr>\n",
       "    <tr>\n",
       "      <th>3</th>\n",
       "      <td>I-2021-4001 A3</td>\n",
       "      <td>53248</td>\n",
       "      <td>2048</td>\n",
       "    </tr>\n",
       "    <tr>\n",
       "      <th>4</th>\n",
       "      <td>I-2021-4001 A3</td>\n",
       "      <td>52736</td>\n",
       "      <td>2560</td>\n",
       "    </tr>\n",
       "    <tr>\n",
       "      <th>...</th>\n",
       "      <td>...</td>\n",
       "      <td>...</td>\n",
       "      <td>...</td>\n",
       "    </tr>\n",
       "    <tr>\n",
       "      <th>209</th>\n",
       "      <td>I-2021-4001 A3</td>\n",
       "      <td>30208</td>\n",
       "      <td>13824</td>\n",
       "    </tr>\n",
       "    <tr>\n",
       "      <th>210</th>\n",
       "      <td>I-2021-4001 A3</td>\n",
       "      <td>30720</td>\n",
       "      <td>13824</td>\n",
       "    </tr>\n",
       "    <tr>\n",
       "      <th>211</th>\n",
       "      <td>I-2021-4001 A3</td>\n",
       "      <td>31232</td>\n",
       "      <td>13824</td>\n",
       "    </tr>\n",
       "    <tr>\n",
       "      <th>212</th>\n",
       "      <td>I-2021-4001 A3</td>\n",
       "      <td>31744</td>\n",
       "      <td>13824</td>\n",
       "    </tr>\n",
       "    <tr>\n",
       "      <th>213</th>\n",
       "      <td>I-2021-4001 A3</td>\n",
       "      <td>32256</td>\n",
       "      <td>13824</td>\n",
       "    </tr>\n",
       "  </tbody>\n",
       "</table>\n",
       "<p>214 rows × 3 columns</p>\n",
       "</div>"
      ],
      "text/plain": [
       "               file      x      y\n",
       "0    I-2021-4001 A3  52736   1536\n",
       "1    I-2021-4001 A3  53248   1536\n",
       "2    I-2021-4001 A3  52736   2048\n",
       "3    I-2021-4001 A3  53248   2048\n",
       "4    I-2021-4001 A3  52736   2560\n",
       "..              ...    ...    ...\n",
       "209  I-2021-4001 A3  30208  13824\n",
       "210  I-2021-4001 A3  30720  13824\n",
       "211  I-2021-4001 A3  31232  13824\n",
       "212  I-2021-4001 A3  31744  13824\n",
       "213  I-2021-4001 A3  32256  13824\n",
       "\n",
       "[214 rows x 3 columns]"
      ]
     },
     "execution_count": 6,
     "metadata": {},
     "output_type": "execute_result"
    }
   ],
   "source": [
    "#dataframe con las coordenadas de los patch de la wsi\n",
    "sel_file = 'I-2021-4001 A3'\n",
    "df = pd.read_parquet('/home/user/Documentos/WSI/dataset/coords.parquet')\n",
    "df = df[df.file == sel_file]\n",
    "df"
   ]
  },
  {
   "cell_type": "code",
   "execution_count": 14,
   "id": "f045fde9",
   "metadata": {},
   "outputs": [
    {
     "data": {
      "text/plain": [
       "(list, 18, 553)"
      ]
     },
     "execution_count": 14,
     "metadata": {},
     "output_type": "execute_result"
    }
   ],
   "source": [
    "#lista con los poligonos(anotaciones) de interes\n",
    "d = get_vert(os.path.join('/home/user/Documentos/WSI/WSI',sel_file+'.xml'))\n",
    "type(d),len(d), len(d[0])"
   ]
  },
  {
   "cell_type": "markdown",
   "id": "0b0bb44b",
   "metadata": {},
   "source": [
    "función helper: bounding box"
   ]
  },
  {
   "cell_type": "code",
   "execution_count": 20,
   "id": "0c87ede8",
   "metadata": {},
   "outputs": [
    {
     "name": "stdout",
     "output_type": "stream",
     "text": [
      "449 < X < 8240\n",
      "5020 < Y < 13945 \n"
     ]
    }
   ],
   "source": [
    "#bounding box para las anotaciones del xml original \n",
    "def get_bound_box(pols_list):\n",
    "    min_x, max_x, min_y, max_y = [], [], [], []\n",
    "    for pol in pols_list:\n",
    "        min_x.append(min(pol, key=lambda p: p[0])[0])\n",
    "        max_x.append(max(pol, key=lambda p: p[0])[0])\n",
    "        min_y.append(min(pol, key=lambda p: p[1])[1])\n",
    "        max_y.append(max(pol, key=lambda p: p[1])[1])\n",
    "        \n",
    "    print(f'{min(min_x)} < X < {max(max_x)}\\n{min(min_y)} < Y < {max(max_y)} ')\n",
    "        \n",
    "get_bound_box(d)"
   ]
  },
  {
   "cell_type": "code",
   "execution_count": 48,
   "id": "a45f2444",
   "metadata": {},
   "outputs": [
    {
     "data": {
      "text/html": [
       "<div>\n",
       "<style scoped>\n",
       "    .dataframe tbody tr th:only-of-type {\n",
       "        vertical-align: middle;\n",
       "    }\n",
       "\n",
       "    .dataframe tbody tr th {\n",
       "        vertical-align: top;\n",
       "    }\n",
       "\n",
       "    .dataframe thead th {\n",
       "        text-align: right;\n",
       "    }\n",
       "</style>\n",
       "<table border=\"1\" class=\"dataframe\">\n",
       "  <thead>\n",
       "    <tr style=\"text-align: right;\">\n",
       "      <th></th>\n",
       "      <th>file</th>\n",
       "      <th>x</th>\n",
       "      <th>y</th>\n",
       "    </tr>\n",
       "  </thead>\n",
       "  <tbody>\n",
       "    <tr>\n",
       "      <th>7</th>\n",
       "      <td>I-2021-4001 A3</td>\n",
       "      <td>5120</td>\n",
       "      <td>3072</td>\n",
       "    </tr>\n",
       "    <tr>\n",
       "      <th>10</th>\n",
       "      <td>I-2021-4001 A3</td>\n",
       "      <td>5120</td>\n",
       "      <td>3584</td>\n",
       "    </tr>\n",
       "    <tr>\n",
       "      <th>14</th>\n",
       "      <td>I-2021-4001 A3</td>\n",
       "      <td>4608</td>\n",
       "      <td>4096</td>\n",
       "    </tr>\n",
       "    <tr>\n",
       "      <th>15</th>\n",
       "      <td>I-2021-4001 A3</td>\n",
       "      <td>5120</td>\n",
       "      <td>4096</td>\n",
       "    </tr>\n",
       "    <tr>\n",
       "      <th>20</th>\n",
       "      <td>I-2021-4001 A3</td>\n",
       "      <td>4608</td>\n",
       "      <td>4608</td>\n",
       "    </tr>\n",
       "  </tbody>\n",
       "</table>\n",
       "</div>"
      ],
      "text/plain": [
       "              file     x     y\n",
       "7   I-2021-4001 A3  5120  3072\n",
       "10  I-2021-4001 A3  5120  3584\n",
       "14  I-2021-4001 A3  4608  4096\n",
       "15  I-2021-4001 A3  5120  4096\n",
       "20  I-2021-4001 A3  4608  4608"
      ]
     },
     "execution_count": 48,
     "metadata": {},
     "output_type": "execute_result"
    }
   ],
   "source": [
    "#buscamos las filas (ids) que estén en la bounding box\n",
    "ids_df = df[(df.x > 400) & (df.x < 8300)]\n",
    "ids_df.head()"
   ]
  },
  {
   "cell_type": "code",
   "execution_count": 51,
   "id": "63e0e3a9",
   "metadata": {},
   "outputs": [],
   "source": [
    "#ids_df.iloc[7].x\n",
    "#for i, (_, row) in enumerate(ids_df.iterrows()):\n",
    "#    print(i, row.x, row.y)"
   ]
  },
  {
   "cell_type": "code",
   "execution_count": 22,
   "id": "8df3d5f1",
   "metadata": {},
   "outputs": [
    {
     "data": {
      "text/plain": [
       "Index([  7,  10,  14,  15,  20,  25,  26,  31,  32,  38,  39,  44,  45,  50,\n",
       "        51,  56,  57,  58,  65,  66,  75,  76,  77,  86,  87,  96,  97, 107,\n",
       "       108, 118, 133, 144, 145, 146, 148, 149, 150, 158, 159, 160, 161, 162,\n",
       "       163, 164, 165, 166, 167, 183, 184, 185, 186, 187, 188, 189, 190, 191],\n",
       "      dtype='int64')"
      ]
     },
     "execution_count": 22,
     "metadata": {},
     "output_type": "execute_result"
    }
   ],
   "source": [
    "ids_df.index"
   ]
  },
  {
   "cell_type": "code",
   "execution_count": 29,
   "id": "aefe46d6",
   "metadata": {},
   "outputs": [
    {
     "data": {
      "text/plain": [
       "['00185', '00186', '00187', '00188', '00189', '00190', '00191']"
      ]
     },
     "execution_count": 29,
     "metadata": {},
     "output_type": "execute_result"
    }
   ],
   "source": [
    "#ahora sabemos que masks leer, asumiendo que el fondo debe ser negro\n",
    "ids = [f'{x:05d}' for x in ids_df.index]\n",
    "ids[-7:]"
   ]
  },
  {
   "cell_type": "code",
   "execution_count": 41,
   "id": "0c699431",
   "metadata": {},
   "outputs": [
    {
     "data": {
      "text/plain": [
       "['00007_2579_1548.png', '00010_2579_1806.png', '00014_2322_2064.png']"
      ]
     },
     "execution_count": 41,
     "metadata": {},
     "output_type": "execute_result"
    }
   ],
   "source": [
    "#masks relevantes\n",
    "path = '/home/user/Documentos/WSI/dataset/mask'\n",
    "files = os.listdir(path)\n",
    "files = [x for x in files if x.split('_')[0] in ids]\n",
    "files = sorted(files)\n",
    "files[:3]"
   ]
  },
  {
   "cell_type": "code",
   "execution_count": 50,
   "id": "108bfe76",
   "metadata": {},
   "outputs": [
    {
     "name": "stdout",
     "output_type": "stream",
     "text": [
      "Abriendo en una sesión existente del navegador\n"
     ]
    },
    {
     "name": "stderr",
     "output_type": "stream",
     "text": [
      "[13108:13108:0100/000000.612642:ERROR:zygote_linux.cc(662)] write: Tubería rota (32)\n"
     ]
    }
   ],
   "source": [
    "large_image = Image.new(size=(8500,15000),color=0, mode='1') #size basado en la bounding box\n",
    "\n",
    "for i, (_, row) in enumerate(ids_df.iterrows()):\n",
    "    small_image = Image.open(os.path.join(path, files[i])) #leemos la mask \n",
    "    large_image.paste(small_image, (row.x, row.y))         #pegamos sobre fondo negro\n",
    "\n",
    "large_image.show(\"result_image.png\")                       #mostrar"
   ]
  },
  {
   "cell_type": "markdown",
   "id": "4b1139b2",
   "metadata": {},
   "source": [
    "En efecto, se genera una mask muy similar a la original. Aparenta perder información, pero en la zona donde aquello sucede, la anotación incluye mucho fondo.\n",
    "\n",
    "Al generar el dataset con un valor de $pix$ menor (actual es $512$) la perdida debería ser menor..."
   ]
  },
  {
   "cell_type": "markdown",
   "id": "1812e605",
   "metadata": {},
   "source": [
    "----"
   ]
  },
  {
   "cell_type": "markdown",
   "id": "1d298e7e",
   "metadata": {},
   "source": [
    "## Reconstruir any mask from the parched_mask in dataset"
   ]
  },
  {
   "cell_type": "code",
   "execution_count": 70,
   "id": "70c8e197",
   "metadata": {},
   "outputs": [],
   "source": [
    "#must give just the filename, not .svs or .xml included\n",
    "def all_(sel_file):\n",
    "    d = get_vert(os.path.join('/home/user/Documentos/WSI/WSI',sel_file+'.xml'))\n",
    "    get_bound_box(d)\n",
    "    x_min = int(input('Ingrese x_min: '))\n",
    "    x_max = int(input('Ingrese x_max: '))\n",
    "    y_min = int(input('Ingrese y_min: '))\n",
    "    y_max = int(input('Ingrese y_max: '))\n",
    "    df = pd.read_parquet('/home/user/Documentos/WSI/dataset/coords.parquet')\n",
    "    df = df[df.file == sel_file]\n",
    "    ids_df = df[(df.x > x_min) & (df.x < x_max)]\n",
    "    ids = [f'{x:05d}' for x in ids_df.index]\n",
    "    files = os.listdir('/home/user/Documentos/WSI/dataset/mask')\n",
    "    files = sorted([x for x in files if x.split('_')[0] in ids])\n",
    "    #large_image = Image.new(size=(x_max, y_max),color=0, mode='1') \n",
    "    large_image = Image.new(size=(x_max-x_min, y_max-y_min),color=0, mode='1') \n",
    "\n",
    "    for i, (_, row) in enumerate(ids_df.iterrows()):\n",
    "        small_image = Image.open(os.path.join('/home/user/Documentos/WSI/dataset/mask', files[i])) \n",
    "        #large_image.paste(small_image, (row.x, row.y))\n",
    "        large_image.paste(small_image, (row.x-x_min, row.y-y_min))\n",
    "\n",
    "    large_image.show()"
   ]
  },
  {
   "cell_type": "code",
   "execution_count": 60,
   "id": "8f05c106",
   "metadata": {},
   "outputs": [
    {
     "data": {
      "text/plain": [
       "['I-2021-4001 A3.xml',\n",
       " 'I-2021-4001 A4.xml',\n",
       " 'I-2021-5616 A1.xml',\n",
       " 'I-2021-5616 A2.xml',\n",
       " 'I-2021-5616 A3.xml',\n",
       " 'I-2021-5616 A4.xml',\n",
       " 'I-2021-5616 B6.xml']"
      ]
     },
     "execution_count": 60,
     "metadata": {},
     "output_type": "execute_result"
    }
   ],
   "source": [
    "filenames('/home/user/Documentos/WSI/WSI', 'xml')"
   ]
  },
  {
   "cell_type": "code",
   "execution_count": 71,
   "id": "906a04ea",
   "metadata": {},
   "outputs": [
    {
     "name": "stdout",
     "output_type": "stream",
     "text": [
      "25270 < X < 30260\n",
      "9025 < Y < 15832 \n",
      "Ingrese x_min: 25000\n",
      "Ingrese x_max: 30000\n",
      "Ingrese y_min: 9000\n",
      "Ingrese y_max: 16000\n",
      "Abriendo en una sesión existente del navegador\n"
     ]
    },
    {
     "name": "stderr",
     "output_type": "stream",
     "text": [
      "[14455:14455:0100/000000.064411:ERROR:zygote_linux.cc(662)] write: Tubería rota (32)\n"
     ]
    }
   ],
   "source": [
    "all_('I-2021-4001 A4')"
   ]
  },
  {
   "cell_type": "markdown",
   "id": "6b42c6ac",
   "metadata": {},
   "source": [
    "---"
   ]
  },
  {
   "cell_type": "markdown",
   "id": "ad2dae3a",
   "metadata": {},
   "source": [
    "## plotting the mask over the patch"
   ]
  },
  {
   "cell_type": "code",
   "execution_count": 4,
   "id": "24881866",
   "metadata": {},
   "outputs": [],
   "source": [
    "#def coord_to_um(filename):\n",
    "#    p = filename.split('.')[0].split('_')\n",
    "#    return int(int(p[1])/0.5038), int(int(p[2])/0.5038)\n",
    "#coord_to_um(file)"
   ]
  },
  {
   "cell_type": "code",
   "execution_count": 5,
   "id": "ebd8534a",
   "metadata": {},
   "outputs": [
    {
     "data": {
      "text/plain": [
       "file    I-2021-4001 A3\n",
       "x                 2560\n",
       "y                 7680\n",
       "Name: 57, dtype: object"
      ]
     },
     "execution_count": 5,
     "metadata": {},
     "output_type": "execute_result"
    }
   ],
   "source": [
    "#file = '00025_2064_2579.png'\n",
    "#file = '00057_1290_3869.png'\n",
    "#file = '01001_37402_5417.png'\n",
    "#file = '01238_35081_2322.png'\n",
    "#file = '01012_37918_5675.png'\n",
    "path = '/home/user/Documentos/WSI/dataset'\n",
    "image = Image.open(os.path.join(path,'patch',file)).convert(\"RGBA\")\n",
    "mask = np.array(Image.open(os.path.join(path,'mask',file)).convert(\"L\"))\n",
    "df = pd.read_parquet('/home/user/Documentos/WSI/dataset/coords.parquet')\n",
    "df.iloc[57] #escribir aqui el id del file deseado"
   ]
  },
  {
   "cell_type": "code",
   "execution_count": 6,
   "id": "428d4fe3",
   "metadata": {},
   "outputs": [
    {
     "name": "stdout",
     "output_type": "stream",
     "text": [
      "Abriendo en una sesión existente del navegador\n"
     ]
    },
    {
     "name": "stderr",
     "output_type": "stream",
     "text": [
      "[3856:3856:0100/000000.748612:ERROR:zygote_linux.cc(662)] write: Tubería rota (32)\n"
     ]
    }
   ],
   "source": [
    "# Adjust the alpha channel of the mask to make it translucent\n",
    "alpha = 120  # Set the alpha value (0-255)  #120-180 buenos valores\n",
    "mask_with_alpha = np.zeros((mask.shape[0], mask.shape[1], 4), dtype=np.uint8)\n",
    "mask_with_alpha[:, :, 0] = 255  # Red channel\n",
    "mask_with_alpha[:, :, 1] = 255  # Green channel\n",
    "mask_with_alpha[:, :, 2] = 255  # Blue channel\n",
    "mask_with_alpha[:, :, 3] = mask * alpha  # Alpha channel\n",
    "\n",
    "# Create a light blue color (RGBA)\n",
    "light_blue = (173, 216, 230, 255)  # RGB: (173, 216, 230), Alpha: 255\n",
    "# Create a new image with the same size as the original image and fill it with light blue\n",
    "overlay = Image.new(\"RGBA\", image.size, light_blue)\n",
    "# Create a composite image by blending the original image and the overlay using the mask\n",
    "composite = Image.composite(overlay, image, Image.fromarray(mask_with_alpha))\n",
    "\n",
    "composite.convert('RGB').show()"
   ]
  },
  {
   "cell_type": "markdown",
   "id": "bf9510ff",
   "metadata": {},
   "source": [
    "---"
   ]
  },
  {
   "cell_type": "markdown",
   "id": "534fd057",
   "metadata": {},
   "source": [
    "## reconstructing WSI"
   ]
  },
  {
   "cell_type": "code",
   "execution_count": 12,
   "id": "3701812c",
   "metadata": {},
   "outputs": [],
   "source": [
    "path = '/home/user/Documentos/UFRO UNICAMP Images'\n",
    "files = filenames(path, 'svs')\n",
    "dims_by_filename = {file[:-4]: OpenSlide(os.path.join(path,file)).dimensions for file in files}"
   ]
  },
  {
   "cell_type": "code",
   "execution_count": 23,
   "id": "8e753d49",
   "metadata": {},
   "outputs": [
    {
     "data": {
      "text/plain": [
       "'\\nfor i, (_, row) in enumerate(ids_df.iterrows()):\\n    small_image = Image.open(os.path.join(path, files[i])) #leemos la mask \\n    large_image.paste(small_image, (row.x, row.y))         #pegamos sobre fondo negro\\n\\nfor patch_image, top_left_x, top_left_y in patches:\\n    patch = Image.open(os.path.join(path,file))\\n    full_image.paste(patch, (top_left_x, top_left_y))\\n'"
      ]
     },
     "execution_count": 23,
     "metadata": {},
     "output_type": "execute_result"
    }
   ],
   "source": [
    "#input: nombre del archivo de interes (sin svs/xml)\n",
    "#       path a la carpeta dataset (la que contiene patch+mask)\n",
    "#output:  carpeta con imagenes de los pares patch+mask sobrepuestos\n",
    "\n",
    "# crítica: ¿ mejora la performance si chequeo si mask == black ?\n",
    "\n",
    "def save_all_masked_patches(filename, path = '/home/user/Documentos/WSI/dataset'):\n",
    "    df = pd.read_parquet(os.path.join(path,'coords.parquet'))\n",
    "    df = df[df.file == filename]\n",
    "    ids = [f'{x:05d}' for x in df.index]\n",
    "    files = os.listdir(os.path.join(path,'mask'))\n",
    "    files = sorted([x for x in files if x.split('_')[0] in ids])\n",
    "    for file in files:\n",
    "        image = Image.open(os.path.join(path,'patch',file)).convert(\"RGBA\")\n",
    "        mask = np.array(Image.open(os.path.join(path,'mask',file)).convert(\"L\"))\n",
    "        alpha = 120  # Set the alpha value (0-255)  #120-180 buenos valores\n",
    "        mask_with_alpha = np.zeros((mask.shape[0], mask.shape[1], 4), dtype=np.uint8)\n",
    "        mask_with_alpha[:, :, 0] = 255  # Red channel\n",
    "        mask_with_alpha[:, :, 1] = 255  # Green channel\n",
    "        mask_with_alpha[:, :, 2] = 255  # Blue channel\n",
    "        mask_with_alpha[:, :, 3] = mask * alpha  # Alpha channel\n",
    "        light_blue = (173, 216, 230, 255)  # RGB: (173, 216, 230), Alpha: 255\n",
    "        overlay = Image.new(\"RGBA\", image.size, light_blue)\n",
    "        composite = Image.composite(overlay, image, Image.fromarray(mask_with_alpha))\n",
    "        check_dir(os.path.join('/home/user/Documentos/WSI','temp',filename))\n",
    "        composite.convert('RGB').save(os.path.join('/home/user/Documentos/WSI','temp',filename,file))\n",
    "\n",
    "fn = 'I-2021-4001 A4'\n",
    "save_all_masked_patches(fn)\n",
    "\n",
    "'''\n",
    "for i, (_, row) in enumerate(ids_df.iterrows()):\n",
    "    small_image = Image.open(os.path.join(path, files[i])) #leemos la mask \n",
    "    large_image.paste(small_image, (row.x, row.y))         #pegamos sobre fondo negro\n",
    "\n",
    "for patch_image, top_left_x, top_left_y in patches:\n",
    "    patch = Image.open(os.path.join(path,file))\n",
    "    full_image.paste(patch, (top_left_x, top_left_y))\n",
    "'''"
   ]
  },
  {
   "cell_type": "code",
   "execution_count": 21,
   "id": "27fcd698",
   "metadata": {},
   "outputs": [
    {
     "data": {
      "text/plain": [
       "['00000_26568_774.png',\n",
       " '00001_26826_774.png',\n",
       " '00002_26568_1032.png',\n",
       " '00003_26826_1032.png',\n",
       " '00004_26568_1290.png',\n",
       " '00005_26826_1290.png',\n",
       " '00006_27084_1290.png',\n",
       " '00007_2579_1548.png',\n",
       " '00008_26568_1548.png',\n",
       " '00009_26826_1548.png',\n",
       " '00010_2579_1806.png',\n",
       " '00011_14961_1806.png',\n",
       " '00012_26568_1806.png',\n",
       " '00013_26826_1806.png',\n",
       " '00014_2322_2064.png',\n",
       " '00015_2579_2064.png',\n",
       " '00016_14703_2064.png',\n",
       " '00017_14961_2064.png',\n",
       " '00018_26568_2064.png',\n",
       " '00019_26826_2064.png',\n",
       " '00020_2322_2322.png',\n",
       " '00021_14703_2322.png',\n",
       " '00022_14961_2322.png',\n",
       " '00023_26568_2322.png',\n",
       " '00024_26826_2322.png',\n",
       " '00025_2064_2579.png',\n",
       " '00026_2322_2579.png',\n",
       " '00027_14445_2579.png',\n",
       " '00028_14703_2579.png',\n",
       " '00029_26568_2579.png',\n",
       " '00030_26826_2579.png',\n",
       " '00031_1806_2837.png',\n",
       " '00032_2064_2837.png',\n",
       " '00033_14445_2837.png',\n",
       " '00034_14703_2837.png',\n",
       " '00035_26310_2837.png',\n",
       " '00036_26568_2837.png',\n",
       " '00037_26826_2837.png',\n",
       " '00038_1806_3095.png',\n",
       " '00039_2064_3095.png',\n",
       " '00040_14187_3095.png',\n",
       " '00041_14445_3095.png',\n",
       " '00042_26310_3095.png',\n",
       " '00043_26568_3095.png',\n",
       " '00044_1548_3353.png',\n",
       " '00045_1806_3353.png',\n",
       " '00046_14187_3353.png',\n",
       " '00047_14445_3353.png',\n",
       " '00048_26310_3353.png',\n",
       " '00049_26568_3353.png',\n",
       " '00050_1290_3611.png',\n",
       " '00051_1548_3611.png',\n",
       " '00052_13929_3611.png',\n",
       " '00053_14187_3611.png',\n",
       " '00054_26310_3611.png',\n",
       " '00055_26568_3611.png',\n",
       " '00056_1032_3869.png',\n",
       " '00057_1290_3869.png',\n",
       " '00058_1548_3869.png',\n",
       " '00059_13671_3869.png',\n",
       " '00060_13929_3869.png',\n",
       " '00061_14187_3869.png',\n",
       " '00062_26310_3869.png',\n",
       " '00063_26568_3869.png',\n",
       " '00064_30696_3869.png',\n",
       " '00065_1032_4127.png',\n",
       " '00066_1290_4127.png',\n",
       " '00067_13413_4127.png',\n",
       " '00068_13671_4127.png',\n",
       " '00069_13929_4127.png',\n",
       " '00070_26310_4127.png',\n",
       " '00071_26568_4127.png',\n",
       " '00072_30438_4127.png',\n",
       " '00073_30696_4127.png',\n",
       " '00074_30953_4127.png',\n",
       " '00075_774_4385.png',\n",
       " '00076_1032_4385.png',\n",
       " '00077_1290_4385.png',\n",
       " '00078_13413_4385.png',\n",
       " '00079_13671_4385.png',\n",
       " '00080_13929_4385.png',\n",
       " '00081_26053_4385.png',\n",
       " '00082_26310_4385.png',\n",
       " '00083_30180_4385.png',\n",
       " '00084_30438_4385.png',\n",
       " '00085_30696_4385.png',\n",
       " '00086_774_4643.png',\n",
       " '00087_1032_4643.png',\n",
       " '00088_13413_4643.png',\n",
       " '00089_13671_4643.png',\n",
       " '00090_26053_4643.png',\n",
       " '00091_26310_4643.png',\n",
       " '00092_29664_4643.png',\n",
       " '00093_29922_4643.png',\n",
       " '00094_30180_4643.png',\n",
       " '00095_30438_4643.png',\n",
       " '00096_516_4901.png',\n",
       " '00097_774_4901.png',\n",
       " '00098_13155_4901.png',\n",
       " '00099_13413_4901.png',\n",
       " '00100_26053_4901.png',\n",
       " '00101_26310_4901.png',\n",
       " '00102_29148_4901.png',\n",
       " '00103_29406_4901.png',\n",
       " '00104_29664_4901.png',\n",
       " '00105_29922_4901.png',\n",
       " '00106_30180_4901.png',\n",
       " '00107_516_5159.png',\n",
       " '00108_774_5159.png',\n",
       " '00109_12897_5159.png',\n",
       " '00110_13155_5159.png',\n",
       " '00111_13413_5159.png',\n",
       " '00112_26310_5159.png',\n",
       " '00113_28632_5159.png',\n",
       " '00114_28890_5159.png',\n",
       " '00115_29148_5159.png',\n",
       " '00116_29406_5159.png',\n",
       " '00117_29664_5159.png',\n",
       " '00118_516_5417.png',\n",
       " '00119_12897_5417.png',\n",
       " '00120_13155_5417.png',\n",
       " '00121_26310_5417.png',\n",
       " '00122_26568_5417.png',\n",
       " '00123_26826_5417.png',\n",
       " '00124_27084_5417.png',\n",
       " '00125_27342_5417.png',\n",
       " '00126_27600_5417.png',\n",
       " '00127_27858_5417.png',\n",
       " '00128_28116_5417.png',\n",
       " '00129_28374_5417.png',\n",
       " '00130_28632_5417.png',\n",
       " '00131_28890_5417.png',\n",
       " '00132_29148_5417.png',\n",
       " '00133_516_5675.png',\n",
       " '00134_12897_5675.png',\n",
       " '00135_26568_5675.png',\n",
       " '00136_26826_5675.png',\n",
       " '00137_27084_5675.png',\n",
       " '00138_27342_5675.png',\n",
       " '00139_27600_5675.png',\n",
       " '00140_27858_5675.png',\n",
       " '00141_28116_5675.png',\n",
       " '00142_28374_5675.png',\n",
       " '00143_28632_5675.png',\n",
       " '00144_516_5933.png',\n",
       " '00145_774_5933.png',\n",
       " '00146_1032_5933.png',\n",
       " '00147_12897_5933.png',\n",
       " '00148_1032_6191.png',\n",
       " '00149_1290_6191.png',\n",
       " '00150_1548_6191.png',\n",
       " '00151_4643_6191.png',\n",
       " '00152_4901_6191.png',\n",
       " '00153_12897_6191.png',\n",
       " '00154_13155_6191.png',\n",
       " '00155_13413_6191.png',\n",
       " '00156_17282_6191.png',\n",
       " '00157_17540_6191.png',\n",
       " '00158_1548_6449.png',\n",
       " '00159_1806_6449.png',\n",
       " '00160_2064_6449.png',\n",
       " '00161_2322_6449.png',\n",
       " '00162_2579_6449.png',\n",
       " '00163_2837_6449.png',\n",
       " '00164_3095_6449.png',\n",
       " '00165_3353_6449.png',\n",
       " '00166_3611_6449.png',\n",
       " '00167_3869_6449.png',\n",
       " '00168_4385_6449.png',\n",
       " '00169_4643_6449.png',\n",
       " '00170_4901_6449.png',\n",
       " '00171_13155_6449.png',\n",
       " '00172_13413_6449.png',\n",
       " '00173_13671_6449.png',\n",
       " '00174_13929_6449.png',\n",
       " '00175_15735_6449.png',\n",
       " '00176_15993_6449.png',\n",
       " '00177_16251_6449.png',\n",
       " '00178_16509_6449.png',\n",
       " '00179_16766_6449.png',\n",
       " '00180_17024_6449.png',\n",
       " '00181_17282_6449.png',\n",
       " '00182_17540_6449.png',\n",
       " '00183_1806_6707.png',\n",
       " '00184_2064_6707.png',\n",
       " '00185_2322_6707.png',\n",
       " '00186_2579_6707.png',\n",
       " '00187_2837_6707.png',\n",
       " '00188_3095_6707.png',\n",
       " '00189_3353_6707.png',\n",
       " '00190_3611_6707.png',\n",
       " '00191_3869_6707.png',\n",
       " '00192_13929_6707.png',\n",
       " '00193_14187_6707.png',\n",
       " '00194_14445_6707.png',\n",
       " '00195_14703_6707.png',\n",
       " '00196_14961_6707.png',\n",
       " '00197_15219_6707.png',\n",
       " '00198_15477_6707.png',\n",
       " '00199_15735_6707.png',\n",
       " '00200_15993_6707.png',\n",
       " '00201_16251_6707.png',\n",
       " '00202_16509_6707.png',\n",
       " '00203_16766_6707.png',\n",
       " '00204_17024_6707.png',\n",
       " '00205_14187_6965.png',\n",
       " '00206_14445_6965.png',\n",
       " '00207_14703_6965.png',\n",
       " '00208_14961_6965.png',\n",
       " '00209_15219_6965.png',\n",
       " '00210_15477_6965.png',\n",
       " '00211_15735_6965.png',\n",
       " '00212_15993_6965.png',\n",
       " '00213_16251_6965.png']"
      ]
     },
     "execution_count": 21,
     "metadata": {},
     "output_type": "execute_result"
    }
   ],
   "source": [
    "def reconstruct_wsi(filename, path_masked_patches, path_coords_df, full_image_size):\n",
    "    full_image = Image.new('RGB', full_image_size, (240,240,240))\n",
    "    df = pd.read_parquet(path_coords_df)\n",
    "    df = df[df.file == filename]\n",
    "    files = sorted(os.listdir(path_masked_patches))\n",
    "    #ids = [int(x.split('.')[0].split('_')[0]) for x in files]\n",
    "    \n",
    "    for i, (_, row) in enumerate(df.iterrows()):\n",
    "        patch = Image.open(os.path.join(path_masked_patches, files[i])) #leemos la mask \n",
    "        full_image.paste(patch, (row.x, row.y))         #pegamos sobre fondo \n",
    "\n",
    "    for patch_image, top_left_x, top_left_y in patches:\n",
    "        patch = Image.open(os.path.join(path,file))\n",
    "        full_image.paste(patch, (top_left_x, top_left_y))\n",
    "\n",
    "    return sorted(files)\n",
    "\n",
    "fn = 'I-2021-4001 A3'\n",
    "path_masked_patches = '/home/user/Documentos/WSI/temp/I-2021-4001 A3'\n",
    "path_coords_df = '/home/user/Documentos/WSI/dataset/coords.parquet'\n",
    "reconstruct_wsi(fn, path_masked_patches, path_coords_df, dims_by_filename[fn])"
   ]
  },
  {
   "cell_type": "code",
   "execution_count": 18,
   "id": "76e754e0",
   "metadata": {},
   "outputs": [
    {
     "data": {
      "text/plain": [
       "int"
      ]
     },
     "execution_count": 18,
     "metadata": {},
     "output_type": "execute_result"
    }
   ],
   "source": []
  },
  {
   "cell_type": "code",
   "execution_count": null,
   "id": "424ea6e8",
   "metadata": {},
   "outputs": [],
   "source": [
    "def reconstruct_wsi(patches, full_image_size):\n",
    "    # Create a new blank image with the full size\n",
    "    full_image = Image.new('RGB', full_image_size, (240,240,240))\n",
    "    \n",
    "    path = '/home/user/Documentos/WSI/temp'\n",
    "    # Paste each patch onto the full image\n",
    "    for i, (_, row) in enumerate(ids_df.iterrows()):\n",
    "    small_image = Image.open(os.path.join(path, files[i])) #leemos la mask \n",
    "    large_image.paste(small_image, (row.x, row.y))         #pegamos sobre fondo negro\n",
    "\n",
    "    for patch_image, top_left_x, top_left_y in patches:\n",
    "        patch = Image.open(os.path.join(path,file))\n",
    "        full_image.paste(patch, (top_left_x, top_left_y))\n",
    "\n",
    "    return full_image\n",
    "\n",
    "# Usage example:\n",
    "# Assuming patches is a list of tuples (patch_image, top_left_x, top_left_y)\n",
    "# and full_image_size contains the dimensions of the full image (width, height)\n",
    "full_image = reconstruct_full_image_with_pil(patches, full_image_size)\n",
    "full_image.show()"
   ]
  }
 ],
 "metadata": {
  "kernelspec": {
   "display_name": "Python 3 (ipykernel)",
   "language": "python",
   "name": "python3"
  },
  "language_info": {
   "codemirror_mode": {
    "name": "ipython",
    "version": 3
   },
   "file_extension": ".py",
   "mimetype": "text/x-python",
   "name": "python",
   "nbconvert_exporter": "python",
   "pygments_lexer": "ipython3",
   "version": "3.10.12"
  }
 },
 "nbformat": 4,
 "nbformat_minor": 5
}
